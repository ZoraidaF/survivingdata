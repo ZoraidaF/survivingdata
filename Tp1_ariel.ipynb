{
 "cells": [
  {
   "cell_type": "code",
   "execution_count": 1,
   "metadata": {
    "collapsed": true
   },
   "outputs": [],
   "source": [
    "import pandas as pd\n",
    "import numpy as np\n",
    "import seaborn as sns\n",
    "\n",
    "import matplotlib.pyplot as plt"
   ]
  },
  {
   "cell_type": "markdown",
   "metadata": {},
   "source": [
    "# CARGA DE DATOS\n",
    "# Los ultimos 3 años"
   ]
  },
  {
   "cell_type": "code",
   "execution_count": 2,
   "metadata": {
    "collapsed": false
   },
   "outputs": [],
   "source": [
    "datos08_13=pd.read_csv('../archivoCSV-Properati/properati-AR-2013-08-01-properties-sell.csv',low_memory=False)\n",
    "datos09_13=pd.read_csv('../archivoCSV-Properati/properati-AR-2013-09-01-properties-sell.csv',low_memory=False)\n",
    "datos10_13=pd.read_csv('../archivoCSV-Properati/properati-AR-2013-10-01-properties-sell.csv',low_memory=False)\n",
    "datos11_13=pd.read_csv('../archivoCSV-Properati/properati-AR-2013-11-01-properties-sell.csv',low_memory=False)\n",
    "datos12_13=pd.read_csv('../archivoCSV-Properati/properati-AR-2013-12-01-properties-sell.csv',low_memory=False)\n"
   ]
  },
  {
   "cell_type": "code",
   "execution_count": 3,
   "metadata": {
    "collapsed": true
   },
   "outputs": [],
   "source": [
    "datos01_14=pd.read_csv('../archivoCSV-Properati/properati-AR-2014-01-01-properties-sell.csv',low_memory=False)\n",
    "datos02_14=pd.read_csv('../archivoCSV-Properati/properati-AR-2014-02-01-properties-sell.csv',low_memory=False)\n",
    "datos03_14=pd.read_csv('../archivoCSV-Properati/properati-AR-2014-03-01-properties-sell.csv',low_memory=False)\n",
    "datos04_14=pd.read_csv('../archivoCSV-Properati/properati-AR-2014-04-01-properties-sell.csv',low_memory=False)\n",
    "datos05_14=pd.read_csv('../archivoCSV-Properati/properati-AR-2014-05-01-properties-sell.csv',low_memory=False)\n",
    "datos06_14=pd.read_csv('../archivoCSV-Properati/properati-AR-2014-06-01-properties-sell.csv',low_memory=False)"
   ]
  },
  {
   "cell_type": "code",
   "execution_count": 4,
   "metadata": {
    "collapsed": true
   },
   "outputs": [],
   "source": [
    "#los datos tomamos desde el 7/14 a 1/15\n",
    "datos07_14_a_01_15=pd.read_csv('../archivoCSV-Properati/properati-AR-2015-01-01-properties-sell-six_months.csv',low_memory=False)\n",
    "#los datos tomados desde el 1/15 a 7/15\n",
    "datos01_15_a_07_15=pd.read_csv('../archivoCSV-Properati/properati-AR-2015-07-01-properties-sell-six_months.csv',low_memory=False)\n",
    "#los datos tomados desde el 6_15 a 12/15\n",
    "datos06_15_a_12_15=pd.read_csv('../archivoCSV-Properati/properati-AR-2015-12-01-properties-sell-six_months.csv',low_memory=False)"
   ]
  },
  {
   "cell_type": "code",
   "execution_count": 5,
   "metadata": {
    "collapsed": true
   },
   "outputs": [],
   "source": [
    "datos01_16=pd.read_csv('../archivoCSV-Properati/properati-AR-2016-01-01-properties-sell.csv',low_memory=False)\n",
    "datos02_16=pd.read_csv('../archivoCSV-Properati/properati-AR-2016-02-01-properties-sell.csv',low_memory=False)\n",
    "datos03_16=pd.read_csv('../archivoCSV-Properati/properati-AR-2016-03-01-properties-sell.csv',low_memory=False)\n",
    "datos04_16=pd.read_csv('../archivoCSV-Properati/properati-AR-2016-04-01-properties-sell.csv',low_memory=False)\n",
    "datos05_16=pd.read_csv('../archivoCSV-Properati/properati-AR-2016-05-01-properties-sell.csv',low_memory=False)\n",
    "datos06_16=pd.read_csv('../archivoCSV-Properati/properati-AR-2016-06-01-properties-sell.csv',low_memory=False)"
   ]
  },
  {
   "cell_type": "code",
   "execution_count": 6,
   "metadata": {
    "collapsed": true
   },
   "outputs": [],
   "source": [
    "datos07_16=pd.read_csv('../archivoCSV-Properati/properati-AR-2016-07-01-properties-sell.csv',low_memory=False)\n",
    "datos08_16=pd.read_csv('../archivoCSV-Properati/properati-AR-2016-08-01-properties-sell.csv',low_memory=False)\n",
    "datos09_16=pd.read_csv('../archivoCSV-Properati/properati-AR-2016-09-01-properties-sell.csv',low_memory=False)\n",
    "datos10_16=pd.read_csv('../archivoCSV-Properati/properati-AR-2016-10-01-properties-sell.csv',low_memory=False)\n",
    "datos11_16=pd.read_csv('../archivoCSV-Properati/properati-AR-2016-11-01-properties-sell.csv',low_memory=False)\n",
    "datos12_16=pd.read_csv('../archivoCSV-Properati/properati-AR-2016-12-01-properties-sell.csv',low_memory=False)"
   ]
  },
  {
   "cell_type": "code",
   "execution_count": 7,
   "metadata": {
    "collapsed": true
   },
   "outputs": [],
   "source": [
    "#los datos tomados desde el 1/17 a 7/17\n",
    "datos01_17_a_07_17=pd.read_csv('../archivoCSV-Properati/properati-AR-2017-07-01-properties-sell-six_months.csv',low_memory=False)"
   ]
  },
  {
   "cell_type": "code",
   "execution_count": 8,
   "metadata": {
    "collapsed": true
   },
   "outputs": [],
   "source": [
    "datos08_17=pd.read_csv('../archivoCSV-Properati/properati-AR-2017-08-01-properties-sell.csv',low_memory=False)"
   ]
  },
  {
   "cell_type": "markdown",
   "metadata": {},
   "source": [
    "# FILTRAMOS LOS DATOS POR CABA Y GRAN BUENOS AIRES\n"
   ]
  },
  {
   "cell_type": "code",
   "execution_count": 28,
   "metadata": {
    "collapsed": true,
    "scrolled": true
   },
   "outputs": [],
   "source": [
    "#2013\n",
    "datos08_13_CABA_GBA=datos08_13.loc[datos08_13.place_with_parent_names.str.contains('Bs.As.','Capital Federal'),:]\n",
    "datos09_13_CABA_GBA=datos09_13.loc[datos09_13.place_with_parent_names.str.contains('Bs.As.','Capital Federal'),:]\n",
    "datos10_13_CABA_GBA=datos10_13.loc[datos10_13.place_with_parent_names.str.contains('Bs.As.','Capital Federal'),:]\n",
    "datos11_13_CABA_GBA=datos11_13.loc[datos11_13.place_with_parent_names.str.contains('Bs.As.','Capital Federal'),:]\n",
    "datos12_13_CABA_GBA=datos12_13.loc[datos12_13.place_with_parent_names.str.contains('Bs.As.','Capital Federal'),:]\n",
    "\n",
    "#2014\n",
    "datos01_14_CABA_GBA=datos01_14.loc[datos01_14.place_with_parent_names.str.contains('Bs.As.','Capital Federal'),:]\n",
    "datos02_14_CABA_GBA=datos02_14.loc[datos02_14.place_with_parent_names.str.contains('Bs.As.','Capital Federal'),:]\n",
    "datos03_14_CABA_GBA=datos03_14.loc[datos03_14.place_with_parent_names.str.contains('Bs.As.','Capital Federal'),:]\n",
    "datos04_14_CABA_GBA=datos04_14.loc[datos04_14.place_with_parent_names.str.contains('Bs.As.','Capital Federal'),:]\n",
    "datos05_14_CABA_GBA=datos05_14.loc[datos05_14.place_with_parent_names.str.contains('Bs.As.','Capital Federal'),:]\n",
    "datos06_14_CABA_GBA=datos06_14.loc[datos06_14.place_with_parent_names.str.contains('Bs.As.','Capital Federal'),:]\n",
    "\n",
    "#apartir de este archivo las estructura cambia al que conocemos hoy en dia \n",
    "#2015\n",
    "datos07_14_a_01_15_CABA_GBA=datos07_14_a_01_15.loc[datos07_14_a_01_15.state_name.str.contains('Bs.As.','Capital Federal'),:]\n",
    "datos01_15_a_07_15_CABA_GBA=datos01_15_a_07_15.loc[datos01_15_a_07_15.state_name.str.contains('Bs.As.','Capital Federal'),:]\n",
    "datos06_15_a_12_15_CABA_GBA=datos06_15_a_12_15.loc[datos06_15_a_12_15.state_name.str.contains('Bs.As.','Capital Federal'),:]\n",
    "\n",
    "#2016\n",
    "datos01_16_CABA_GBA=datos01_16.loc[datos01_16.state_name.str.contains('Bs.As.','Capital Federal'),:]\n",
    "datos02_16_CABA_GBA=datos02_16.loc[datos02_16.state_name.str.contains('Bs.As.','Capital Federal'),:]\n",
    "datos03_16_CABA_GBA=datos03_16.loc[datos03_16.state_name.str.contains('Bs.As.','Capital Federal'),:]\n",
    "datos04_16_CABA_GBA=datos04_16.loc[datos04_16.state_name.str.contains('Bs.As.','Capital Federal'),:]\n",
    "datos05_16_CABA_GBA=datos05_16.loc[datos05_16.state_name.str.contains('Bs.As.','Capital Federal'),:]\n",
    "datos06_16_CABA_GBA=datos06_16.loc[datos06_16.state_name.str.contains('Bs.As.','Capital Federal'),:]\n",
    "datos07_16_CABA_GBA=datos07_16.loc[datos07_16.state_name.str.contains('Bs.As.','Capital Federal'),:]\n",
    "datos08_16_CABA_GBA=datos08_16.loc[datos08_16.state_name.str.contains('Bs.As.','Capital Federal'),:]\n",
    "datos09_16_CABA_GBA=datos09_16.loc[datos09_16.state_name.str.contains('Bs.As.','Capital Federal'),:]\n",
    "datos10_16_CABA_GBA=datos10_16.loc[datos10_16.state_name.str.contains('Bs.As.','Capital Federal'),:]\n",
    "datos11_16_CABA_GBA=datos11_16.loc[datos11_16.state_name.str.contains('Bs.As.','Capital Federal'),:]\n",
    "datos12_16_CABA_GBA=datos12_16.loc[datos12_16.state_name.str.contains('Bs.As.','Capital Federal'),:]\n",
    "\n",
    "#2017\n",
    "datos01_17_a_07_17_CABA_GBA=datos01_17_a_07_17.loc[datos01_17_a_07_17.state_name.str.contains('Bs.As.','Capital Federal'),:]\n",
    "datos08_17_CABA_GBA=datos08_17.loc[datos08_17.state_name.str.contains('Bs.As.','Capital Federal'),:]"
   ]
  },
  {
   "cell_type": "markdown",
   "metadata": {},
   "source": [
    "# ELIMINAMOS COLUMNAS QUE NO APORTAN AL ESTUDIO PARA ESTE PRIMER ANALISIS:\n",
    "\n",
    "# operation, place_with_parent_names, country_name, state_name, geonames_id, lat-lon, price, currency, price_aprox_local_currency, price_per_m2, properati_url, title, image_thumbnail "
   ]
  },
  {
   "cell_type": "code",
   "execution_count": 29,
   "metadata": {
    "collapsed": false,
    "scrolled": true
   },
   "outputs": [],
   "source": [
    "\n",
    "columnas_eliminar = [\"operation\", \"place_with_parent_names\", \"geonames_id\", \"lat-lon\", \"price\", \"currency\", \"price_aprox_local_currency\", \"properati_url\", \"image_thumbnail\"]\n",
    "#2013\n",
    "datos08_13_CABA_GBA = datos08_13_CABA_GBA.drop ( columnas_eliminar, axis=1 )\n",
    "datos09_13_CABA_GBA = datos09_13_CABA_GBA.drop ( columnas_eliminar, axis=1 )\n",
    "datos10_13_CABA_GBA = datos10_13_CABA_GBA.drop ( columnas_eliminar, axis=1 )\n",
    "datos11_13_CABA_GBA = datos11_13_CABA_GBA.drop ( columnas_eliminar, axis=1 )\n",
    "datos12_13_CABA_GBA = datos12_13_CABA_GBA.drop ( columnas_eliminar, axis=1 )\n",
    "\n",
    "#2014\n",
    "datos01_14_CABA_GBA = datos01_14_CABA_GBA.drop ( columnas_eliminar, axis=1 )\n",
    "datos02_14_CABA_GBA = datos02_14_CABA_GBA.drop ( columnas_eliminar, axis=1 )\n",
    "datos03_14_CABA_GBA = datos03_14_CABA_GBA.drop ( columnas_eliminar, axis=1 )\n",
    "datos04_14_CABA_GBA = datos04_14_CABA_GBA.drop ( columnas_eliminar, axis=1 )\n",
    "datos05_14_CABA_GBA = datos05_14_CABA_GBA.drop ( columnas_eliminar, axis=1 )\n",
    "datos06_14_CABA_GBA = datos06_14_CABA_GBA.drop ( columnas_eliminar, axis=1 )\n",
    "\n",
    "columnas_eliminar = [\"operation\", \"place_with_parent_names\", \"country_name\", \"state_name\", \"geonames_id\", \"lat-lon\", \"price\", \"currency\", \"price_aprox_local_currency\", \"price_per_m2\", \"properati_url\", \"title\", \"image_thumbnail\"]\n",
    "#datos8_13_CABA_GBA.drop(columnas_eliminar)\n",
    "#2015\n",
    "datos07_14_a_01_15_CABA_GBA = datos07_14_a_01_15_CABA_GBA.drop( columnas_eliminar,axis=1 )\n",
    "datos01_15_a_07_15_CABA_GBA = datos01_15_a_07_15_CABA_GBA.drop( columnas_eliminar,axis=1 )\n",
    "datos06_15_a_12_15_CABA_GBA = datos06_15_a_12_15_CABA_GBA.drop( columnas_eliminar,axis=1 )\n",
    "\n",
    "#2016\n",
    "datos01_16_CABA_GBA         = datos01_16_CABA_GBA.drop ( columnas_eliminar, axis = 1 )\n",
    "datos02_16_CABA_GBA         = datos02_16_CABA_GBA.drop ( columnas_eliminar, axis = 1 )\n",
    "datos03_16_CABA_GBA         = datos03_16_CABA_GBA.drop ( columnas_eliminar, axis = 1 )\n",
    "datos04_16_CABA_GBA         = datos04_16_CABA_GBA.drop ( columnas_eliminar, axis = 1 )\n",
    "datos05_16_CABA_GBA         = datos05_16_CABA_GBA.drop ( columnas_eliminar, axis = 1 )\n",
    "datos06_16_CABA_GBA         = datos06_16_CABA_GBA.drop ( columnas_eliminar, axis = 1 )\n",
    "datos07_16_CABA_GBA         = datos07_16_CABA_GBA.drop ( columnas_eliminar, axis = 1 )\n",
    "datos08_16_CABA_GBA         = datos08_16_CABA_GBA.drop ( columnas_eliminar, axis = 1 )\n",
    "datos09_16_CABA_GBA         = datos09_16_CABA_GBA.drop ( columnas_eliminar, axis = 1 )\n",
    "datos10_16_CABA_GBA         = datos10_16_CABA_GBA.drop ( columnas_eliminar, axis = 1 )\n",
    "datos11_16_CABA_GBA         = datos11_16_CABA_GBA.drop ( columnas_eliminar, axis = 1 )\n",
    "datos12_16_CABA_GBA         = datos12_16_CABA_GBA.drop ( columnas_eliminar, axis = 1 )\n",
    "\n",
    "#2017\n",
    "datos08_17_CABA_GBA         = datos08_17_CABA_GBA.drop ( columnas_eliminar, axis = 1 )\n",
    "datos01_17_a_07_17_CABA_GBA = datos01_17_a_07_17_CABA_GBA.drop( columnas_eliminar,axis=1 )"
   ]
  },
  {
   "cell_type": "markdown",
   "metadata": {},
   "source": [
    "# FILTRAMOS POR PRECIOS NAN'S YA QUE CONSIDERAMOS QUE NO APORTAN AL ESTUDIO DE DATOS:\n"
   ]
  },
  {
   "cell_type": "code",
   "execution_count": 30,
   "metadata": {
    "collapsed": false,
    "scrolled": true
   },
   "outputs": [],
   "source": [
    "precios_indefinidos = ['price_usd_per_m2','surface_in_m2']\n",
    "datos08_13_CABA_GBA.dropna(subset=precios_indefinidos,inplace=True)\n",
    "datos09_13_CABA_GBA.dropna(subset=precios_indefinidos,inplace=True)\n",
    "datos10_13_CABA_GBA.dropna(subset=precios_indefinidos,inplace=True)\n",
    "datos10_13_CABA_GBA.dropna(subset=precios_indefinidos,inplace=True)\n",
    "datos11_13_CABA_GBA.dropna(subset=precios_indefinidos,inplace=True)\n",
    "datos12_13_CABA_GBA.dropna(subset=precios_indefinidos,inplace=True)\n",
    "datos01_14_CABA_GBA.dropna(subset=precios_indefinidos,inplace=True)\n",
    "datos02_14_CABA_GBA.dropna(subset=precios_indefinidos,inplace=True)\n",
    "datos03_14_CABA_GBA.dropna(subset=precios_indefinidos,inplace=True)\n",
    "datos04_14_CABA_GBA.dropna(subset=precios_indefinidos,inplace=True)\n",
    "datos05_14_CABA_GBA.dropna(subset=precios_indefinidos,inplace=True)\n",
    "datos06_14_CABA_GBA.dropna(subset=precios_indefinidos,inplace=True)\n",
    "\n",
    "datos07_14_a_01_15_CABA_GBA.dropna(subset=precios_indefinidos,inplace=True)\n",
    "datos01_15_a_07_15_CABA_GBA.dropna(subset=precios_indefinidos,inplace=True)\n",
    "datos06_15_a_12_15_CABA_GBA.dropna(subset=precios_indefinidos,inplace=True)\n",
    "\n",
    "precios_indefinidos = ['price_usd_per_m2','surface_total_in_m2']\n",
    "\n",
    "datos01_16_CABA_GBA.dropna(subset=precios_indefinidos,inplace=True)\n",
    "datos02_16_CABA_GBA.dropna(subset=precios_indefinidos,inplace=True)\n",
    "datos03_16_CABA_GBA.dropna(subset=precios_indefinidos,inplace=True)\n",
    "datos04_16_CABA_GBA.dropna(subset=precios_indefinidos,inplace=True)\n",
    "datos05_16_CABA_GBA.dropna(subset=precios_indefinidos,inplace=True)\n",
    "datos06_16_CABA_GBA.dropna(subset=precios_indefinidos,inplace=True)\n",
    "datos07_16_CABA_GBA.dropna(subset=precios_indefinidos,inplace=True)\n",
    "datos08_16_CABA_GBA.dropna(subset=precios_indefinidos,inplace=True)\n",
    "datos09_16_CABA_GBA.dropna(subset=precios_indefinidos,inplace=True)\n",
    "datos10_16_CABA_GBA.dropna(subset=precios_indefinidos,inplace=True)\n",
    "datos11_16_CABA_GBA.dropna(subset=precios_indefinidos,inplace=True)\n",
    "datos12_16_CABA_GBA.dropna(subset=precios_indefinidos,inplace=True)\n",
    "datos01_17_a_07_17_CABA_GBA.dropna(subset=precios_indefinidos,inplace=True)\n",
    "datos08_17_CABA_GBA.dropna(subset=precios_indefinidos,inplace=True)"
   ]
  },
  {
   "cell_type": "code",
   "execution_count": 31,
   "metadata": {
    "collapsed": false,
    "scrolled": true
   },
   "outputs": [
    {
     "data": {
      "text/html": [
       "<div style=\"max-height:1000px;max-width:1500px;overflow:auto;\">\n",
       "<table border=\"1\" class=\"dataframe\">\n",
       "  <thead>\n",
       "    <tr style=\"text-align: right;\">\n",
       "      <th></th>\n",
       "      <th>created_on</th>\n",
       "      <th>property_type</th>\n",
       "      <th>place_name</th>\n",
       "      <th>lat</th>\n",
       "      <th>lon</th>\n",
       "      <th>price_aprox_usd</th>\n",
       "      <th>surface_in_m2</th>\n",
       "      <th>price_usd_per_m2</th>\n",
       "      <th>floor</th>\n",
       "      <th>rooms</th>\n",
       "      <th>expenses</th>\n",
       "    </tr>\n",
       "  </thead>\n",
       "  <tbody>\n",
       "    <tr>\n",
       "      <th>0</th>\n",
       "      <td> 2012-08-08</td>\n",
       "      <td> house</td>\n",
       "      <td> Villa Ballester</td>\n",
       "      <td>-34.558247</td>\n",
       "      <td>-58.564806</td>\n",
       "      <td> 110000</td>\n",
       "      <td> 349</td>\n",
       "      <td> 315.186246</td>\n",
       "      <td>NaN</td>\n",
       "      <td>  4</td>\n",
       "      <td> NaN</td>\n",
       "    </tr>\n",
       "    <tr>\n",
       "      <th>1</th>\n",
       "      <td> 2012-08-08</td>\n",
       "      <td> house</td>\n",
       "      <td> Villa Ballester</td>\n",
       "      <td>       NaN</td>\n",
       "      <td>       NaN</td>\n",
       "      <td> 110000</td>\n",
       "      <td> 349</td>\n",
       "      <td> 315.186246</td>\n",
       "      <td>NaN</td>\n",
       "      <td>  4</td>\n",
       "      <td> NaN</td>\n",
       "    </tr>\n",
       "    <tr>\n",
       "      <th>2</th>\n",
       "      <td> 2012-08-08</td>\n",
       "      <td> house</td>\n",
       "      <td>      San Martín</td>\n",
       "      <td>-34.542278</td>\n",
       "      <td>-58.505344</td>\n",
       "      <td>  99000</td>\n",
       "      <td> 153</td>\n",
       "      <td> 647.058824</td>\n",
       "      <td>NaN</td>\n",
       "      <td>NaN</td>\n",
       "      <td> NaN</td>\n",
       "    </tr>\n",
       "  </tbody>\n",
       "</table>\n",
       "<p>3 rows × 11 columns</p>\n",
       "</div>"
      ],
      "text/plain": [
       "   created_on property_type       place_name        lat        lon  \\\n",
       "0  2012-08-08         house  Villa Ballester -34.558247 -58.564806   \n",
       "1  2012-08-08         house  Villa Ballester        NaN        NaN   \n",
       "2  2012-08-08         house       San Martín -34.542278 -58.505344   \n",
       "\n",
       "   price_aprox_usd  surface_in_m2  price_usd_per_m2  floor  rooms expenses  \n",
       "0           110000            349        315.186246    NaN      4      NaN  \n",
       "1           110000            349        315.186246    NaN      4      NaN  \n",
       "2            99000            153        647.058824    NaN    NaN      NaN  \n",
       "\n",
       "[3 rows x 11 columns]"
      ]
     },
     "execution_count": 31,
     "metadata": {},
     "output_type": "execute_result"
    }
   ],
   "source": [
    "# sacamos los datos de 2013, hacemos un merge pára no tener datos repetidos\n",
    "\n",
    "columnas_merge = [\"created_on\",\"property_type\",\"place_name\",\"lat\",\"lon\",\"price_aprox_usd\",\"surface_in_m2\",\"price_usd_per_m2\",\"floor\",\"rooms\",\"expenses\"]\n",
    "\n",
    "publicaciones2013 = pd.merge(datos08_13_CABA_GBA,datos09_13_CABA_GBA,how='outer',on=columnas_merge )\n",
    "publicaciones2013 = pd.merge(datos10_13_CABA_GBA,publicaciones2013,  how='outer',on=columnas_merge )\n",
    "publicaciones2013 = pd.merge(datos11_13_CABA_GBA,publicaciones2013,  how='outer',on=columnas_merge )\n",
    "publicaciones2013 = pd.merge(datos12_13_CABA_GBA,publicaciones2013,  how='outer',on=columnas_merge )\n",
    "\n",
    "publicaciones2013[:3]"
   ]
  },
  {
   "cell_type": "code",
   "execution_count": 13,
   "metadata": {
    "collapsed": true
   },
   "outputs": [],
   "source": [
    "# renombramos la columna surface_in_m2 por surface_total_in_m2\n",
    "# renombramos la columna en publicaciones2013\n",
    "publicaciones2013.rename(columns={'surface_in_m2':'surface_total_in_m2'},inplace=True)\n"
   ]
  },
  {
   "cell_type": "code",
   "execution_count": 32,
   "metadata": {
    "collapsed": false
   },
   "outputs": [
    {
     "data": {
      "text/html": [
       "<div style=\"max-height:1000px;max-width:1500px;overflow:auto;\">\n",
       "<table border=\"1\" class=\"dataframe\">\n",
       "  <thead>\n",
       "    <tr style=\"text-align: right;\">\n",
       "      <th></th>\n",
       "      <th>created_on</th>\n",
       "      <th>property_type</th>\n",
       "      <th>place_name</th>\n",
       "      <th>lat</th>\n",
       "      <th>lon</th>\n",
       "      <th>price_aprox_usd</th>\n",
       "      <th>surface_total_in_m2</th>\n",
       "      <th>price_usd_per_m2</th>\n",
       "      <th>floor</th>\n",
       "      <th>rooms</th>\n",
       "      <th>expenses</th>\n",
       "      <th>id</th>\n",
       "      <th>surface_covered_in_m2</th>\n",
       "      <th>description</th>\n",
       "    </tr>\n",
       "  </thead>\n",
       "  <tbody>\n",
       "    <tr>\n",
       "      <th>0</th>\n",
       "      <td> 2012-08-08</td>\n",
       "      <td> house</td>\n",
       "      <td>                Villa Ballester</td>\n",
       "      <td>NaN</td>\n",
       "      <td>NaN</td>\n",
       "      <td> 110000</td>\n",
       "      <td> 349</td>\n",
       "      <td> 315.186246</td>\n",
       "      <td>NaN</td>\n",
       "      <td>  4</td>\n",
       "      <td> NaN</td>\n",
       "      <td> NaN</td>\n",
       "      <td>NaN</td>\n",
       "      <td> NaN</td>\n",
       "    </tr>\n",
       "    <tr>\n",
       "      <th>1</th>\n",
       "      <td> 2012-08-08</td>\n",
       "      <td> house</td>\n",
       "      <td>                Villa Ballester</td>\n",
       "      <td>NaN</td>\n",
       "      <td>NaN</td>\n",
       "      <td> 110000</td>\n",
       "      <td> 220</td>\n",
       "      <td> 500.000000</td>\n",
       "      <td>NaN</td>\n",
       "      <td>  4</td>\n",
       "      <td> NaN</td>\n",
       "      <td> NaN</td>\n",
       "      <td>NaN</td>\n",
       "      <td> NaN</td>\n",
       "    </tr>\n",
       "    <tr>\n",
       "      <th>2</th>\n",
       "      <td> 2012-08-08</td>\n",
       "      <td> house</td>\n",
       "      <td> Villa Granaderos De San Martin</td>\n",
       "      <td>NaN</td>\n",
       "      <td>NaN</td>\n",
       "      <td>  99000</td>\n",
       "      <td> 153</td>\n",
       "      <td> 647.058824</td>\n",
       "      <td>NaN</td>\n",
       "      <td>NaN</td>\n",
       "      <td> NaN</td>\n",
       "      <td> NaN</td>\n",
       "      <td>NaN</td>\n",
       "      <td> NaN</td>\n",
       "    </tr>\n",
       "  </tbody>\n",
       "</table>\n",
       "<p>3 rows × 14 columns</p>\n",
       "</div>"
      ],
      "text/plain": [
       "   created_on property_type                      place_name  lat  lon  \\\n",
       "0  2012-08-08         house                 Villa Ballester  NaN  NaN   \n",
       "1  2012-08-08         house                 Villa Ballester  NaN  NaN   \n",
       "2  2012-08-08         house  Villa Granaderos De San Martin  NaN  NaN   \n",
       "\n",
       "   price_aprox_usd  surface_total_in_m2  price_usd_per_m2  floor  rooms  \\\n",
       "0           110000                  349        315.186246    NaN      4   \n",
       "1           110000                  220        500.000000    NaN      4   \n",
       "2            99000                  153        647.058824    NaN    NaN   \n",
       "\n",
       "  expenses   id  surface_covered_in_m2 description  \n",
       "0      NaN  NaN                    NaN         NaN  \n",
       "1      NaN  NaN                    NaN         NaN  \n",
       "2      NaN  NaN                    NaN         NaN  \n",
       "\n",
       "[3 rows x 14 columns]"
      ]
     },
     "execution_count": 32,
     "metadata": {},
     "output_type": "execute_result"
    }
   ],
   "source": [
    "columnas_merge = [\"created_on\",\"property_type\",\"place_name\",\"lat\",\"lon\",\"price_aprox_usd\",\"surface_in_m2\",\"price_usd_per_m2\",\"floor\",\"rooms\",\"expenses\"]\n",
    "\n",
    "merge1 = pd.merge(datos01_14_CABA_GBA,datos02_14_CABA_GBA,how='outer',on=columnas_merge)\n",
    "merge2 = pd.merge(merge1, datos03_14_CABA_GBA,  how='outer',on=columnas_merge)\n",
    "merge3 = pd.merge(merge2, datos04_14_CABA_GBA,  how='outer',on=columnas_merge)\n",
    "merge4 = pd.merge(merge3, datos05_14_CABA_GBA,  how='outer',on=columnas_merge)\n",
    "merge5 = pd.merge(merge4, datos06_14_CABA_GBA,  how='outer',on=columnas_merge)\n",
    "\n",
    "#renombramos la columna\n",
    "merge5 = merge5.rename(columns={'surface_in_m2':'surface_total_in_m2'})\n",
    "\n",
    "columnas_merge = [\"created_on\",\"property_type\",\"place_name\",\"lat\",\"lon\",\"price_aprox_usd\",\"surface_total_in_m2\",\"price_usd_per_m2\",\"floor\",\"rooms\",\"expenses\"]\n",
    "\n",
    "publicaciones2014_ = pd.merge(merge5,datos07_14_a_01_15_CABA_GBA,how='outer',on=columnas_merge)\n",
    "publicaciones2014[:3]"
   ]
  },
  {
   "cell_type": "code",
   "execution_count": 33,
   "metadata": {
    "collapsed": false
   },
   "outputs": [
    {
     "data": {
      "text/html": [
       "<div style=\"max-height:1000px;max-width:1500px;overflow:auto;\">\n",
       "<table border=\"1\" class=\"dataframe\">\n",
       "  <tbody>\n",
       "    <tr>\n",
       "      <td>Int64Index([], dtype='int64')</td>\n",
       "      <td>Empty DataFrame</td>\n",
       "    </tr>\n",
       "  </tbody>\n",
       "</table>\n",
       "<p>0 rows × 14 columns</p>\n",
       "</div>"
      ],
      "text/plain": [
       "Empty DataFrame\n",
       "Columns: [id, created_on, property_type, place_name, lat, lon, price_aprox_usd, surface_total_in_m2, surface_covered_in_m2, price_usd_per_m2, floor, rooms, expenses, description]\n",
       "Index: []\n",
       "\n",
       "[0 rows x 14 columns]"
      ]
     },
     "execution_count": 33,
     "metadata": {},
     "output_type": "execute_result"
    }
   ],
   "source": [
    "columnas_merge = [\"id\",\"created_on\",\"property_type\",\"place_name\",\"lat\",\"lon\",\"price_aprox_usd\",\"surface_total_in_m2\",\"surface_covered_in_m2\",\"price_usd_per_m2\",\"floor\",\"rooms\",\"expenses\",\"description\"]\n",
    "\n",
    "publicaciones2015 = pd.merge(datos01_15_a_07_15_CABA_GBA,datos06_15_a_12_15_CABA_GBA,how='outer',on=columnas_merge)\n",
    "publicaciones2015[:3]\n",
    "\n"
   ]
  },
  {
   "cell_type": "code",
   "execution_count": 39,
   "metadata": {
    "collapsed": false
   },
   "outputs": [],
   "source": [
    "columnas_merge = [\"id\",\"created_on\",\"property_type\",\"place_name\",\"lat\",\"lon\",\"price_aprox_usd\",\"surface_total_in_m2\",\"surface_covered_in_m2\",\"price_usd_per_m2\",\"floor\",\"rooms\",\"expenses\",\"description\"]\n",
    "\n",
    "publicaciones2016=pd.merge(datos01_16_CABA_GBA,datos02_16_CABA_GBA,how='outer',on=columnas_merge)\n",
    "publicaciones2016=pd.merge(datos03_16_CABA_GBA,publicaciones2016,how='outer',on=columnas_merge)\n",
    "publicaciones2016=pd.merge(datos04_16_CABA_GBA,publicaciones2016,how='outer',on=columnas_merge)\n",
    "publicaciones2016=pd.merge(datos05_16_CABA_GBA,publicaciones2016,how='outer',on=columnas_merge)\n",
    "publicaciones2016=pd.merge(datos06_16_CABA_GBA,publicaciones2016,how='outer',on=columnas_merge)\n",
    "publicaciones2016=pd.merge(datos07_16_CABA_GBA,publicaciones2016,how='outer',on=columnas_merge)\n",
    "publicaciones2016=pd.merge(datos08_16_CABA_GBA,publicaciones2016,how='outer',on=columnas_merge)\n",
    "publicaciones2016=pd.merge(datos09_16_CABA_GBA,publicaciones2016,how='outer',on=columnas_merge)\n",
    "publicaciones2016=pd.merge(datos10_16_CABA_GBA,publicaciones2016,how='outer',on=columnas_merge)\n",
    "publicaciones2016=pd.merge(datos11_16_CABA_GBA,publicaciones2016,how='outer',on=columnas_merge)\n",
    "publicaciones2016=pd.merge(datos12_16_CABA_GBA,publicaciones2016,how='outer',on=columnas_merge)\n",
    "#publicaciones2016[:3]\n",
    "\n",
    "publicaciones2017=pd.merge(datos01_17_a_07_17_CABA_GBA,datos08_17_CABA_GBA,how='outer',on=columnas_merge)\n",
    "#publicaciones2017[:3]\n"
   ]
  },
  {
   "cell_type": "code",
   "execution_count": 40,
   "metadata": {
    "collapsed": false
   },
   "outputs": [
    {
     "data": {
      "text/html": [
       "<div style=\"max-height:1000px;max-width:1500px;overflow:auto;\">\n",
       "<table border=\"1\" class=\"dataframe\">\n",
       "  <thead>\n",
       "    <tr style=\"text-align: right;\">\n",
       "      <th></th>\n",
       "      <th>id</th>\n",
       "      <th>created_on</th>\n",
       "      <th>property_type</th>\n",
       "      <th>place_name</th>\n",
       "      <th>lat</th>\n",
       "      <th>lon</th>\n",
       "      <th>price_aprox_usd</th>\n",
       "      <th>surface_total_in_m2</th>\n",
       "      <th>surface_covered_in_m2</th>\n",
       "      <th>price_usd_per_m2</th>\n",
       "      <th>floor</th>\n",
       "      <th>rooms</th>\n",
       "      <th>expenses</th>\n",
       "      <th>description</th>\n",
       "    </tr>\n",
       "  </thead>\n",
       "  <tbody>\n",
       "    <tr>\n",
       "      <th>0</th>\n",
       "      <td> a786b4d9a8f6cc86ba3e839f4cb85bbb03cf15fd</td>\n",
       "      <td> 2016-06-01</td>\n",
       "      <td> house</td>\n",
       "      <td> Adrogué</td>\n",
       "      <td>-34.796679</td>\n",
       "      <td>-58.399315</td>\n",
       "      <td> 360000</td>\n",
       "      <td> 280</td>\n",
       "      <td>   0</td>\n",
       "      <td> 1285.714286</td>\n",
       "      <td>NaN</td>\n",
       "      <td> 6</td>\n",
       "      <td>  NaN</td>\n",
       "      <td> CHALET INMEJORABLE UBICACIÓN: PLANTA BAJA: AMP...</td>\n",
       "    </tr>\n",
       "    <tr>\n",
       "      <th>1</th>\n",
       "      <td> 9844244d17eb024e0632a63b4098b67889de06bc</td>\n",
       "      <td> 2016-06-01</td>\n",
       "      <td> house</td>\n",
       "      <td>   Pilar</td>\n",
       "      <td>       NaN</td>\n",
       "      <td>       NaN</td>\n",
       "      <td> 150000</td>\n",
       "      <td> 120</td>\n",
       "      <td> 120</td>\n",
       "      <td> 1250.000000</td>\n",
       "      <td>NaN</td>\n",
       "      <td> 4</td>\n",
       "      <td>  NaN</td>\n",
       "      <td> Casa muy funcional, desarrollada en una sola p...</td>\n",
       "    </tr>\n",
       "    <tr>\n",
       "      <th>2</th>\n",
       "      <td> 0bf7e57e034c3742f303d74256c2448d19b577bb</td>\n",
       "      <td> 2016-06-01</td>\n",
       "      <td> house</td>\n",
       "      <td>   Pilar</td>\n",
       "      <td>-34.439418</td>\n",
       "      <td>-58.925763</td>\n",
       "      <td> 215000</td>\n",
       "      <td> 138</td>\n",
       "      <td> 108</td>\n",
       "      <td> 1557.971014</td>\n",
       "      <td>NaN</td>\n",
       "      <td> 4</td>\n",
       "      <td> 2000</td>\n",
       "      <td> Barrio La Candela - moderna, muy luminosa y fu...</td>\n",
       "    </tr>\n",
       "  </tbody>\n",
       "</table>\n",
       "<p>3 rows × 14 columns</p>\n",
       "</div>"
      ],
      "text/plain": [
       "                                         id  created_on property_type  \\\n",
       "0  a786b4d9a8f6cc86ba3e839f4cb85bbb03cf15fd  2016-06-01         house   \n",
       "1  9844244d17eb024e0632a63b4098b67889de06bc  2016-06-01         house   \n",
       "2  0bf7e57e034c3742f303d74256c2448d19b577bb  2016-06-01         house   \n",
       "\n",
       "  place_name        lat        lon  price_aprox_usd  surface_total_in_m2  \\\n",
       "0    Adrogué -34.796679 -58.399315           360000                  280   \n",
       "1      Pilar        NaN        NaN           150000                  120   \n",
       "2      Pilar -34.439418 -58.925763           215000                  138   \n",
       "\n",
       "   surface_covered_in_m2  price_usd_per_m2  floor  rooms  expenses  \\\n",
       "0                      0       1285.714286    NaN      6       NaN   \n",
       "1                    120       1250.000000    NaN      4       NaN   \n",
       "2                    108       1557.971014    NaN      4      2000   \n",
       "\n",
       "                                         description  \n",
       "0  CHALET INMEJORABLE UBICACIÓN: PLANTA BAJA: AMP...  \n",
       "1  Casa muy funcional, desarrollada en una sola p...  \n",
       "2  Barrio La Candela - moderna, muy luminosa y fu...  \n",
       "\n",
       "[3 rows x 14 columns]"
      ]
     },
     "execution_count": 40,
     "metadata": {},
     "output_type": "execute_result"
    }
   ],
   "source": [
    "columnas_merge = [\"id\",\"created_on\",\"property_type\",\"place_name\",\"lat\",\"lon\",\"price_aprox_usd\",\"surface_total_in_m2\",\"surface_covered_in_m2\",\"price_usd_per_m2\",\"floor\",\"rooms\",\"expenses\",\"description\"]\n",
    "\n",
    "publicacion_Total=pd.merge(publicaciones2015,publicaciones2016,how='outer',on=columnas_merge)\n",
    "publicacion_Total=pd.merge(publicacion_Total,publicaciones2017,how='outer',on=columnas_merge)\n",
    "publicacion_Total[:3]\n"
   ]
  },
  {
   "cell_type": "code",
   "execution_count": 36,
   "metadata": {
    "collapsed": false
   },
   "outputs": [
    {
     "name": "stdout",
     "output_type": "stream",
     "text": [
      "<class 'pandas.core.frame.DataFrame'>\n",
      "Int64Index: 93407 entries, 0 to 93406\n",
      "Data columns (total 14 columns):\n",
      "id                       93407 non-null object\n",
      "created_on               93407 non-null object\n",
      "property_type            93407 non-null object\n",
      "place_name               93366 non-null object\n",
      "lat                      54508 non-null float64\n",
      "lon                      54508 non-null float64\n",
      "price_aprox_usd          93407 non-null float64\n",
      "surface_total_in_m2      93407 non-null float64\n",
      "surface_covered_in_m2    89054 non-null float64\n",
      "price_usd_per_m2         93407 non-null float64\n",
      "floor                    9883 non-null float64\n",
      "rooms                    35426 non-null float64\n",
      "expenses                 9119 non-null float64\n",
      "description              93405 non-null object\n",
      "dtypes: float64(9), object(5)\n",
      "memory usage: 10.7+ MB\n"
     ]
    }
   ],
   "source": [
    "publicacion_Total.info()"
   ]
  },
  {
   "cell_type": "markdown",
   "metadata": {},
   "source": [
    "# VISUALIZACION ALE"
   ]
  },
  {
   "cell_type": "code",
   "execution_count": 43,
   "metadata": {
    "collapsed": false
   },
   "outputs": [
    {
     "data": {
      "text/plain": [
       "([<matplotlib.axis.XTick at 0x71f26e2c>,\n",
       "  <matplotlib.axis.XTick at 0x7fe5d0cc>,\n",
       "  <matplotlib.axis.XTick at 0x744cff0c>,\n",
       "  <matplotlib.axis.XTick at 0x744e960c>,\n",
       "  <matplotlib.axis.XTick at 0x744e9d6c>,\n",
       "  <matplotlib.axis.XTick at 0x744e64ec>,\n",
       "  <matplotlib.axis.XTick at 0x744e6c4c>,\n",
       "  <matplotlib.axis.XTick at 0x75c5cc4c>,\n",
       "  <matplotlib.axis.XTick at 0x71f2278c>,\n",
       "  <matplotlib.axis.XTick at 0x7d35e4cc>,\n",
       "  <matplotlib.axis.XTick at 0x747807ec>,\n",
       "  <matplotlib.axis.XTick at 0x7d35e0ac>,\n",
       "  <matplotlib.axis.XTick at 0x75c5caec>,\n",
       "  <matplotlib.axis.XTick at 0x75c5c18c>,\n",
       "  <matplotlib.axis.XTick at 0x75c56b2c>,\n",
       "  <matplotlib.axis.XTick at 0x75c563ec>,\n",
       "  <matplotlib.axis.XTick at 0x75c52c6c>,\n",
       "  <matplotlib.axis.XTick at 0x75c5284c>,\n",
       "  <matplotlib.axis.XTick at 0x75c521ac>,\n",
       "  <matplotlib.axis.XTick at 0x7388f5ec>,\n",
       "  <matplotlib.axis.XTick at 0x7388fd6c>,\n",
       "  <matplotlib.axis.XTick at 0x7388b54c>,\n",
       "  <matplotlib.axis.XTick at 0x7388bd0c>,\n",
       "  <matplotlib.axis.XTick at 0x738854ec>,\n",
       "  <matplotlib.axis.XTick at 0x73885cac>,\n",
       "  <matplotlib.axis.XTick at 0x6a8f948c>,\n",
       "  <matplotlib.axis.XTick at 0x6a8f9c4c>,\n",
       "  <matplotlib.axis.XTick at 0x6a8fe42c>,\n",
       "  <matplotlib.axis.XTick at 0x6a8febec>,\n",
       "  <matplotlib.axis.XTick at 0x6a9033cc>,\n",
       "  <matplotlib.axis.XTick at 0x6a903b8c>,\n",
       "  <matplotlib.axis.XTick at 0x6a90736c>,\n",
       "  <matplotlib.axis.XTick at 0x6a907b2c>,\n",
       "  <matplotlib.axis.XTick at 0x7d3c9d0c>,\n",
       "  <matplotlib.axis.XTick at 0x7d3c954c>,\n",
       "  <matplotlib.axis.XTick at 0x7d3c5d6c>,\n",
       "  <matplotlib.axis.XTick at 0x7d3c55ac>,\n",
       "  <matplotlib.axis.XTick at 0x7d3c0dcc>,\n",
       "  <matplotlib.axis.XTick at 0x7d3c060c>,\n",
       "  <matplotlib.axis.XTick at 0x7d3bbe2c>,\n",
       "  <matplotlib.axis.XTick at 0x7d3bb66c>,\n",
       "  <matplotlib.axis.XTick at 0x7d3b6e8c>,\n",
       "  <matplotlib.axis.XTick at 0x7d3b66cc>,\n",
       "  <matplotlib.axis.XTick at 0x7d3b2eec>,\n",
       "  <matplotlib.axis.XTick at 0x7d3b272c>,\n",
       "  <matplotlib.axis.XTick at 0x7d3aef4c>,\n",
       "  <matplotlib.axis.XTick at 0x7d3ae78c>,\n",
       "  <matplotlib.axis.XTick at 0x7d3a9fac>,\n",
       "  <matplotlib.axis.XTick at 0x7d3a97ec>,\n",
       "  <matplotlib.axis.XTick at 0x7d3a902c>],\n",
       " <a list of 50 Text xticklabel objects>)"
      ]
     },
     "execution_count": 43,
     "metadata": {},
     "output_type": "execute_result"
    },
    {
     "data": {
      "image/png": "[encoded data removed]",
      "text/plain": [
       "<matplotlib.figure.Figure at 0x7fd0050c>"
      ]
     },
     "metadata": {},
     "output_type": "display_data"
    }
   ],
   "source": [
    "publicacion_Total[\"date\"] = pd.to_datetime(publicacion_Total.created_on, format=\"%Y-%m-%d\")\n",
    "publicacion_Total[\"month\"] = publicacion_Total[\"date\"].apply(lambda x: x.month)\n",
    "publicacion_Total[\"year\"] = publicacion_Total[\"date\"].apply(lambda x: x.year)\n",
    "publicacion_Total[\"yearmonth\"] = publicacion_Total[\"date\"].apply(lambda x: x.strftime('%Y%m'))\n",
    "publicacion_Total[\"cant\"] = publicacion_Total[\"year\"].apply(lambda x: 1)\n",
    "#Cantidad total de publicaciones registradas por mes, segun el tipo de propiedad  (PH,apartment,house,store)\n",
    "\n",
    "plt.figure()\n",
    "publicacion_Total.dropna(subset=['yearmonth'],inplace=True)\n",
    "publicacion_Total.loc[publicacion_Total.property_type.str.contains('PH'),\\\n",
    "                 ['cant','yearmonth']].groupby('yearmonth').count()\\\n",
    "                 .loc[:,'cant'].plot(color='blue',rot=90,xticks=range(0,50), \\\n",
    "                 linewidth=2,figsize=(12,8),label='PH');\n",
    "publicacion_Total.loc[publicacion_Total.property_type.str.contains('apartment'),\\\n",
    "                 ['cant','yearmonth']].groupby('yearmonth').count()\\\n",
    "                 .loc[:,'cant'].plot(color='red',rot=90,xticks=range(0,50), \\\n",
    "                 linewidth=2,figsize=(12,8),label='apartment');\n",
    "publicacion_Total.loc[publicacion_Total.property_type.str.contains('house'),\\\n",
    "                 ['cant','yearmonth']].groupby('yearmonth').count()\\\n",
    "                 .loc[:,'cant'].plot(color='green',rot=90,xticks=range(0,50), \\\n",
    "                 linewidth=2,figsize=(12,8),label='house');\n",
    "publicacion_Total.loc[publicacion_Total.property_type.str.contains('store'),\\\n",
    "                 ['cant','yearmonth']].groupby('yearmonth').count()\\\n",
    "                 .loc[:,'cant'].plot(color='yellow',rot=90,xticks=range(0,50), \\\n",
    "                 linewidth=2,figsize=(12,8),label='store');\n",
    "plt.legend();\n",
    "plt.title(\"Cantidad total de publicaciones registrados por mes\")\n",
    "plt.xticks(range(0,50))\n",
    "#plt.show();"
   ]
  },
  {
   "cell_type": "markdown",
   "metadata": {},
   "source": [
    "# visualizacion ariel"
   ]
  },
  {
   "cell_type": "code",
   "execution_count": 42,
   "metadata": {
    "collapsed": false
   },
   "outputs": [
    {
     "name": "stderr",
     "output_type": "stream",
     "text": [
      "/usr/local/lib/python2.7/dist-packages/ipykernel/__main__.py:11: SettingWithCopyWarning: A value is trying to be set on a copy of a slice from a DataFrame.\n",
      "Try using .loc[row_index,col_indexer] = value instead\n",
      "/usr/local/lib/python2.7/dist-packages/ipykernel/__main__.py:12: SettingWithCopyWarning: A value is trying to be set on a copy of a slice from a DataFrame.\n",
      "Try using .loc[row_index,col_indexer] = value instead\n",
      "/usr/local/lib/python2.7/dist-packages/ipykernel/__main__.py:15: SettingWithCopyWarning: A value is trying to be set on a copy of a slice from a DataFrame.\n",
      "Try using .loc[row_index,col_indexer] = value instead\n"
     ]
    },
    {
     "data": {
      "image/png": "[encoded data removed]",
      "text/plain": [
       "<matplotlib.figure.Figure at 0xaca29c4c>"
      ]
     },
     "metadata": {},
     "output_type": "display_data"
    }
   ],
   "source": [
    "import matplotlib.pyplot as plt\n",
    "%matplotlib inline\n",
    "\n",
    "campoEjex = 'yearmonth';\n",
    "campoEjey = 'price_aprox_usd';\n",
    "\n",
    "# Considero las viviendas que son Departamentos\n",
    "departamentos = publicacion_Total[publicacion_Total['property_type'] == \"apartment\"]\n",
    "\n",
    "# Agrego las columnas 'year'.\n",
    "departamentos['created_on']=pd.to_datetime(departamentos['created_on'],errors='coerce', format=\"%Y-%m-%d\")\n",
    "departamentos['year'] = departamentos['created_on'].apply(lambda x: x.year)\n",
    "#departamentos['year'] = departamentos['created_on'].apply(lambda x: x)\n",
    "\n",
    "departamentos[campoEjex] = departamentos['created_on'].apply(lambda x: x.strftime('%Y-%m'))\n",
    "\n",
    "# Elimino las viviendas que no tengan definida la cantidad de habitaciones\n",
    "departamentos.dropna(subset=['rooms'],inplace=False)\n",
    "\n",
    "# Filtros por anio\n",
    "es2013 = departamentos['year'] == 2013\n",
    "es2014 = departamentos['year'] == 2014\n",
    "es2015 = departamentos['year'] == 2015\n",
    "es2016 = departamentos['year'] == 2016\n",
    "es2017 = departamentos['year'] == 2017\n",
    "\n",
    "#departamentos = departamentos[es2013 & es2014]\n",
    "\n",
    "# Filtros por cantidad de ambientes\n",
    "ambientes01 = departamentos['rooms'] == 1\n",
    "ambientes02 = departamentos['rooms'] == 2\n",
    "ambientes03 = departamentos['rooms'] == 3\n",
    "ambientes04 = departamentos['rooms'] == 4\n",
    "ambientes05 = departamentos['rooms'] == 5\n",
    "ambientes06 = departamentos['rooms'] == 6\n",
    "ambientes07 = departamentos['rooms'] == 7\n",
    "ambientes08 = departamentos['rooms'] == 8\n",
    "ambientes09 = departamentos['rooms'] == 9\n",
    "ambientes10 = departamentos['rooms'] == 10\n",
    "ambientes11 = departamentos['rooms'] == 11\n",
    "ambientes12 = departamentos['rooms'] == 12\n",
    "\n",
    "# Considero las columnas relevantes al analisis\n",
    "departamentos = departamentos[[campoEjex,campoEjey]]\n",
    "departamentos = departamentos[[campoEjex,campoEjey]]\n",
    "\n",
    "# Genero los agrupamientos segun la cantidad de ambientes \n",
    "agrupado_porAmbiente01 = departamentos[ambientes01].groupby([campoEjex]).mean()\n",
    "agrupado_porAmbiente01.rename(columns={campoEjey: '1 ambiente'}, inplace=True)\n",
    "\n",
    "agrupado_porAmbiente02 = departamentos[ambientes02].groupby([campoEjex]).mean()\n",
    "agrupado_porAmbiente02.rename(columns={campoEjey: '2 ambientes'}, inplace=True)\n",
    "\n",
    "agrupado_porAmbiente03 = departamentos[ambientes03].groupby([campoEjex]).mean()\n",
    "agrupado_porAmbiente03.rename(columns={campoEjey: '3 ambientes'}, inplace=True)\n",
    "\n",
    "agrupado_porAmbiente04 = departamentos[ambientes04].groupby([campoEjex]).mean()\n",
    "agrupado_porAmbiente04.rename(columns={campoEjey: '4 ambientes'}, inplace=True)\n",
    "\n",
    "agrupado_porAmbiente05 = departamentos[ambientes05].groupby([campoEjex]).mean()\n",
    "agrupado_porAmbiente05.rename(columns={campoEjey: '5 ambientes'}, inplace=True)\n",
    "\n",
    "agrupado_porAmbiente06 = departamentos[ambientes06].groupby([campoEjex]).mean()\n",
    "agrupado_porAmbiente06.rename(columns={campoEjey: '6 ambientes'}, inplace=True)\n",
    "\n",
    "agrupado_porAmbiente07 = departamentos[ambientes07].groupby([campoEjex]).mean()\n",
    "agrupado_porAmbiente07.rename(columns={campoEjey: '7 ambientes'}, inplace=True)\n",
    "\n",
    "agrupado_porAmbiente08 = departamentos[ambientes08].groupby([campoEjex]).mean()\n",
    "agrupado_porAmbiente08.rename(columns={campoEjey: '8 ambientes'}, inplace=True)\n",
    "\n",
    "agrupado_porAmbiente09 = departamentos[ambientes09].groupby([campoEjex]).mean()\n",
    "agrupado_porAmbiente09.rename(columns={campoEjey: '9 ambientes'}, inplace=True)\n",
    "\n",
    "agrupado_porAmbiente10 = departamentos[ambientes10].groupby([campoEjex]).mean()\n",
    "agrupado_porAmbiente10.rename(columns={campoEjey: '10 ambientes'}, inplace=True)\n",
    "\n",
    "agrupado_porAmbiente11 = departamentos[ambientes11].groupby([campoEjex]).mean()\n",
    "agrupado_porAmbiente11.rename(columns={campoEjey: '11 ambientes'}, inplace=True)\n",
    "\n",
    "agrupado_porAmbiente12 = departamentos[ambientes12].groupby([campoEjex]).mean()\n",
    "agrupado_porAmbiente12.rename(columns={campoEjey: '12 ambientes'}, inplace=True)\n",
    "\n",
    "# MERGE TOTAL de los agrupamientos.\n",
    "agrupado_total = pd.concat([agrupado_porAmbiente01, agrupado_porAmbiente02, agrupado_porAmbiente03, \n",
    "                           agrupado_porAmbiente04, agrupado_porAmbiente05, agrupado_porAmbiente06, \n",
    "                           agrupado_porAmbiente07, agrupado_porAmbiente08, agrupado_porAmbiente09,\n",
    "                           agrupado_porAmbiente10, agrupado_porAmbiente11, agrupado_porAmbiente12\n",
    "                           ], axis=1)\n",
    "\n",
    "agrupado_total = pd.concat([agrupado_porAmbiente01, agrupado_porAmbiente02, agrupado_porAmbiente03, \n",
    "                           agrupado_porAmbiente04\n",
    "                           ], axis=1)\n",
    "\n",
    "# Graficacion \n",
    "f = plt.figure()\n",
    "plt.title('Departamentos: Precios Segun Cantidad de Ambientes.', color='black')\n",
    "ax = agrupado_total.plot(kind='bar', stacked=False,figsize=(16,8),ax=f.gca())\n",
    "handles, labels = ax.get_legend_handles_labels()\n",
    "plt.legend(handles[::-1], labels[::-1],loc='center left', bbox_to_anchor=(1.0, 0.5))\n",
    "ax.set_ylabel('Precio Promedio (US$)');\n",
    "ax.set_xlabel('Anio-Mes');\n",
    "#plt.show()\n",
    "\n",
    "#TODO proteger la graficacion en casos de que en cierto anio-mes no hallan departamentos de ninguna cantidad de ambientes\n"
   ]
  },
  {
   "cell_type": "code",
   "execution_count": null,
   "metadata": {
    "collapsed": true
   },
   "outputs": [],
   "source": []
  }
 ],
 "metadata": {
  "kernelspec": {
   "display_name": "Python 2",
   "language": "python",
   "name": "python2"
  },
  "language_info": {
   "codemirror_mode": {
    "name": "ipython",
    "version": 2
   },
   "file_extension": ".py",
   "mimetype": "text/x-python",
   "name": "python",
   "nbconvert_exporter": "python",
   "pygments_lexer": "ipython2",
   "version": "2.7.6"
  }
 },
 "nbformat": 4,
 "nbformat_minor": 2
}
